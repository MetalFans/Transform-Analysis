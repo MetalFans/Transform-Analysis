{
 "cells": [
  {
   "cell_type": "code",
   "execution_count": 1,
   "metadata": {
    "collapsed": true
   },
   "outputs": [],
   "source": [
    "%matplotlib inline\n",
    "import networkx as nx\n",
    "import matplotlib.pyplot as plt\n",
    "import os\n",
    "import re\n",
    "import json\n",
    "import time"
   ]
  },
  {
   "cell_type": "markdown",
   "metadata": {},
   "source": [
    "## 讀取資料"
   ]
  },
  {
   "cell_type": "code",
   "execution_count": 2,
   "metadata": {
    "collapsed": false
   },
   "outputs": [],
   "source": [
    "with open('../Workspace/data/ifoodieBlogDic20160619Update5PixnetSmallEnglish.json') as f:\n",
    "    blog = json.load(f)\n",
    "with open('../Workspace/data/ifoodieUserDic20160524.json') as f:\n",
    "    user = json.load(f)"
   ]
  },
  {
   "cell_type": "markdown",
   "metadata": {},
   "source": [
    "## 檢視key"
   ]
  },
  {
   "cell_type": "code",
   "execution_count": 3,
   "metadata": {
    "collapsed": false
   },
   "outputs": [
    {
     "name": "stdout",
     "output_type": "stream",
     "text": [
      "[u'blog_type', u'title', u'url', u'timestamp', u'is_paid', u'recommend_cnt', u'browse_cnt', u'favorite_cnt', u'share_cnt', u'date', u'article', u'author_id', u'_id', u'restaurant_id']\n",
      "[u'fav_cnt', u'fans_id_list', u'follower_cnt', u'recommendation_blog_list', u'display_name', u'following_cnt', u'timestamp', u'blog_id_list', u'post_cnt', u'profile_pic_origin', u'browse_cnt', u'checkin_cnt', u'collection_blog_list', u'_id', u'visit_blog_list', u'certified']\n"
     ]
    }
   ],
   "source": [
    "print blog.values()[0].keys()\n",
    "print user.values()[0].keys()"
   ]
  },
  {
   "cell_type": "markdown",
   "metadata": {},
   "source": [
    "## 計算推薦/收藏數"
   ]
  },
  {
   "cell_type": "code",
   "execution_count": 4,
   "metadata": {
    "collapsed": false
   },
   "outputs": [
    {
     "name": "stdout",
     "output_type": "stream",
     "text": [
      "294634\n",
      "72838\n"
     ]
    }
   ],
   "source": [
    "def countAuthor(dict, user, blog, collection):\n",
    "    for bg in user[collection]:\n",
    "        if bg in blog and blog[bg]['author_id'] not in like:\n",
    "            dict[blog[bg]['author_id']] = 1\n",
    "        elif bg in blog and blog[bg]['author_id'] in like:\n",
    "            dict[blog[bg]['author_id']] += 1\n",
    "    return dict\n",
    "\n",
    "for us in user:\n",
    "    like = {}\n",
    "    try:\n",
    "        like = countAuthor(like, user[us], blog, 'collection_blog_list')\n",
    "        like = countAuthor(like, user[us], blog, 'recommendation_blog_list')\n",
    "        user[us]['like'] = like\n",
    "    except KeyError:\n",
    "        user[us]['like'] ={}\n",
    "print len(user)\n",
    "print len(blog)"
   ]
  },
  {
   "cell_type": "markdown",
   "metadata": {},
   "source": [
    "## 建立節點"
   ]
  },
  {
   "cell_type": "code",
   "execution_count": 5,
   "metadata": {
    "collapsed": true
   },
   "outputs": [],
   "source": [
    "import networkx as nx\n",
    "dg = nx.DiGraph()\n",
    "personalization = {}\n",
    "for id in user:\n",
    "    personalization[id] = float(user[id]['follower_cnt'])/len(user)\n",
    "    dg.add_node(id)\n",
    "    normalized = sum(user[id]['like'].values())\n",
    "    for auth in user[id]['like']:\n",
    "        if user.get(auth):\n",
    "            w = user[id]['like'][auth]\n",
    "            dg.add_weighted_edges_from([(id, auth, float(w)/normalized)])"
   ]
  },
  {
   "cell_type": "markdown",
   "metadata": {},
   "source": [
    "## 計算PageRank"
   ]
  },
  {
   "cell_type": "code",
   "execution_count": 6,
   "metadata": {
    "collapsed": false
   },
   "outputs": [
    {
     "name": "stdout",
     "output_type": "stream",
     "text": [
      "運行時間34.452571秒\n"
     ]
    }
   ],
   "source": [
    "import operator\n",
    "start = time.time()\n",
    "[dg.remove_node(ele) for ele in dg.nodes() if dg.in_degree(ele) ==0 and dg.out_degree(ele) == 0]\n",
    "pr = nx.pagerank(dg, personalization = personalization, weight = 'weight')\n",
    "sortedPr = sorted(pr.iteritems(),key=operator.itemgetter(1),reverse=True)\n",
    "print \"運行時間%f秒\" %(time.time()-start)"
   ]
  },
  {
   "cell_type": "markdown",
   "metadata": {},
   "source": [
    "## 存入推薦者"
   ]
  },
  {
   "cell_type": "code",
   "execution_count": 7,
   "metadata": {
    "collapsed": false
   },
   "outputs": [],
   "source": [
    "with open('../Workspace/result/UserWithFoodTypeV2.json', 'r') as f:\n",
    "    bigU = json.load(f)"
   ]
  },
  {
   "cell_type": "code",
   "execution_count": null,
   "metadata": {
    "collapsed": false
   },
   "outputs": [],
   "source": [
    "for u in bigU:\n",
    "    bigU[u]['predecessors'] = dg.predecessors(u)\n",
    "with open('./Workspace/result/UserWithPredecessorsV2.json', 'w') as f:\n",
    "    json.dump(bigU,f)"
   ]
  },
  {
   "cell_type": "markdown",
   "metadata": {},
   "source": [
    "## 計算PageRank"
   ]
  },
  {
   "cell_type": "code",
   "execution_count": null,
   "metadata": {
    "collapsed": false
   },
   "outputs": [],
   "source": [
    "import operator\n",
    "start = time.time()\n",
    "[dg.remove_node(ele) for ele in dg.nodes() if dg.in_degree(ele) ==0 and dg.out_degree(ele) == 0]\n",
    "pr = nx.pagerank(dg, personalization = personalization, weight = 'weight')\n",
    "sortedPr = sorted(pr.iteritems(),key=operator.itemgetter(1),reverse=True)\n",
    "print time.time()-start"
   ]
  },
  {
   "cell_type": "code",
   "execution_count": null,
   "metadata": {
    "collapsed": true
   },
   "outputs": [],
   "source": [
    "pos = nx.spring_layout(dg)\n",
    "nx.draw(dg, pos, node_size=5)"
   ]
  },
  {
   "cell_type": "markdown",
   "metadata": {},
   "source": [
    "## 排名前20"
   ]
  },
  {
   "cell_type": "code",
   "execution_count": null,
   "metadata": {
    "collapsed": false
   },
   "outputs": [],
   "source": [
    "for ele in sortedPr[0:20]:\n",
    "    print user[ele[0]]['display_name'], ele[1]"
   ]
  },
  {
   "cell_type": "code",
   "execution_count": null,
   "metadata": {
    "collapsed": false
   },
   "outputs": [],
   "source": [
    "for ele in sortedPr[0:100]:\n",
    "    print ele[0], user[ele[0]]['display_name'], user[ele[0]]['follower_cnt'], dg.in_degree(ele[0]), ele[1]\n",
    "print len(sortedPr)"
   ]
  },
  {
   "cell_type": "code",
   "execution_count": 8,
   "metadata": {
    "collapsed": true
   },
   "outputs": [],
   "source": [
    "users = set(bigU.keys())\n",
    "target = set([ele[0] for ele in sortedPr[0:100]])\n",
    "garbage = users.difference(target)"
   ]
  },
  {
   "cell_type": "code",
   "execution_count": 17,
   "metadata": {
    "collapsed": false
   },
   "outputs": [
    {
     "name": "stdout",
     "output_type": "stream",
     "text": [
      "0.759263038635\n"
     ]
    }
   ],
   "source": [
    "networkU = {}\n",
    "start = time.time()\n",
    "for ele in sortedPr[0:100]:\n",
    "    predecessors = list(set(u for u in dg.predecessors(ele[0]))&target)\n",
    "    neighbors = list(set(u for u in dg.neighbors(ele[0]))&target)\n",
    "    if predecessors:\n",
    "        networkU[ele[0]] = bigU[ele[0]]\n",
    "        networkU[ele[0]]['page_rank'] = ele[1]\n",
    "        networkU[ele[0]]['in_degree'] = dg.in_degree(ele[0])\n",
    "        networkU[ele[0]]['out_degree'] = dg.out_degree(ele[0])\n",
    "        networkU[ele[0]]['predecessors'] = predecessors\n",
    "        networkU[ele[0]]['neighbors'] = neighbors\n",
    "        networkU[ele[0]].pop('food_type')\n",
    "        networkU[ele[0]].pop('blog_id_list')\n",
    "        networkU[ele[0]].pop('blog_cnt_by_type')\n",
    "        networkU[ele[0]].pop('collection_blog_list')\n",
    "        networkU[ele[0]].pop('sentiment_score')\n",
    "        networkU[ele[0]].pop('visit_blog_list')\n",
    "        networkU[ele[0]].pop('active_region')\n",
    "        networkU[ele[0]].pop('fans_id_list')\n",
    "        networkU[ele[0]].pop('between_zscore')\n",
    "        networkU[ele[0]].pop('within_zscore')\n",
    "        networkU[ele[0]].pop('recommendation_blog_list')\n",
    "        networkU[ele[0]].pop('like')\n",
    "print time.time()-start\n",
    "with open('../Workspace/result/UserForPR_V2.json', 'w') as f:\n",
    "    json.dump(networkU, f)"
   ]
  },
  {
   "cell_type": "code",
   "execution_count": null,
   "metadata": {
    "collapsed": false
   },
   "outputs": [],
   "source": [
    "for ele in sortedPr:\n",
    "    user[ele[0]]['page_rank'] = ele[1]\n",
    "    user[ele[0]]['recommendation_count'] = dg.in_degree(ele[0])\n",
    "for ele in user:\n",
    "    if not user[ele].get('page_rank'):\n",
    "        user[ele]['page_rank'] = 0.0\n",
    "        user[ele]['recommendation_count'] = 0"
   ]
  },
  {
   "cell_type": "code",
   "execution_count": null,
   "metadata": {
    "collapsed": false
   },
   "outputs": [],
   "source": [
    "with open('./Workspace/result/UserWithPageRank20160624.json', 'w') as f:\n",
    "    json.dump(user, f)"
   ]
  }
 ],
 "metadata": {
  "kernelspec": {
   "display_name": "Python 2",
   "language": "python",
   "name": "python2"
  },
  "language_info": {
   "codemirror_mode": {
    "name": "ipython",
    "version": 2
   },
   "file_extension": ".py",
   "mimetype": "text/x-python",
   "name": "python",
   "nbconvert_exporter": "python",
   "pygments_lexer": "ipython2",
   "version": "2.7.11"
  }
 },
 "nbformat": 4,
 "nbformat_minor": 0
}
